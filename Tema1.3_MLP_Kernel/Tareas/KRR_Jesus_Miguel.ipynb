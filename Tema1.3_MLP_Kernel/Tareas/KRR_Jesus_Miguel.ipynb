{
 "cells": [
  {
   "cell_type": "markdown",
   "metadata": {},
   "source": [
    "## Kernel Ridge Regression (KRR)\n",
    "Regresión no-lineal regularizada.\n",
    "* Generar conjunto de entrenamiento para predecir la función seno. \n",
    "* Expandir entradas en potencias (matriz de Vandermonde) para el ajuste polinómico con el regresor lineal (LR) y regresor lineal regularizado (LRR)\n",
    "* Obtener pesos optimos para LR, LRR y KRR\n",
    "* Calcula la salida para datos de test [0,2pi]\n",
    "* Representa la salida estimada y la deseada\n",
    "\n",
    "Analiza los resultados:\n",
    "* Modifica la constante de regularización.\n",
    "* Modifica la anchura del kernel RBF.\n",
    "* Modifica el orden del ajuste polinómico. "
   ]
  },
  {
   "cell_type": "code",
   "execution_count": 10,
   "metadata": {},
   "outputs": [
    {
     "name": "stdout",
     "output_type": "stream",
     "text": [
      "12\n"
     ]
    }
   ],
   "source": [
    "import numpy as np\n",
    "# Genero datos de train\n",
    "N=12\n",
    "#X = np.linspace(0, np.pi * 2.0, N)\n",
    "rng=np.random.RandomState(4)\n",
    "X_train = rng.uniform(0, np.pi * 2.0, N)[:,np.newaxis]\n",
    "y_train = np.sin( X_train )\n",
    "print(X_train.shape[0])"
   ]
  },
  {
   "cell_type": "code",
   "execution_count": 14,
   "metadata": {},
   "outputs": [],
   "source": [
    "%qtconsole"
   ]
  },
  {
   "cell_type": "code",
   "execution_count": 2,
   "metadata": {},
   "outputs": [
    {
     "ename": "NameError",
     "evalue": "name 'XXX' is not defined",
     "output_type": "error",
     "traceback": [
      "\u001b[1;31m---------------------------------------------------------------------------\u001b[0m",
      "\u001b[1;31mNameError\u001b[0m                                 Traceback (most recent call last)",
      "\u001b[1;32md:\\UNIVERSIDAD\\MASTER\\Primer_curso\\AM\\Tema1_Supervised_Kernel_Percept\\Metodos_kernel\\krr_ejercicio.ipynb Cell 3\u001b[0m line \u001b[0;36m1\n\u001b[0;32m     <a href='vscode-notebook-cell:/d%3A/UNIVERSIDAD/MASTER/Primer_curso/AM/Tema1_Supervised_Kernel_Percept/Metodos_kernel/krr_ejercicio.ipynb#W2sZmlsZQ%3D%3D?line=9'>10</a>\u001b[0m Y\u001b[39m=\u001b[39my_train\n\u001b[0;32m     <a href='vscode-notebook-cell:/d%3A/UNIVERSIDAD/MASTER/Primer_curso/AM/Tema1_Supervised_Kernel_Percept/Metodos_kernel/krr_ejercicio.ipynb#W2sZmlsZQ%3D%3D?line=11'>12</a>\u001b[0m \u001b[39m# np.linalg.inv()\u001b[39;00m\n\u001b[0;32m     <a href='vscode-notebook-cell:/d%3A/UNIVERSIDAD/MASTER/Primer_curso/AM/Tema1_Supervised_Kernel_Percept/Metodos_kernel/krr_ejercicio.ipynb#W2sZmlsZQ%3D%3D?line=12'>13</a>\u001b[0m \u001b[39m# XX.T.dot\u001b[39;00m\n\u001b[0;32m     <a href='vscode-notebook-cell:/d%3A/UNIVERSIDAD/MASTER/Primer_curso/AM/Tema1_Supervised_Kernel_Percept/Metodos_kernel/krr_ejercicio.ipynb#W2sZmlsZQ%3D%3D?line=13'>14</a>\u001b[0m \u001b[39m# np.eye()\u001b[39;00m\n\u001b[0;32m     <a href='vscode-notebook-cell:/d%3A/UNIVERSIDAD/MASTER/Primer_curso/AM/Tema1_Supervised_Kernel_Percept/Metodos_kernel/krr_ejercicio.ipynb#W2sZmlsZQ%3D%3D?line=14'>15</a>\u001b[0m \n\u001b[0;32m     <a href='vscode-notebook-cell:/d%3A/UNIVERSIDAD/MASTER/Primer_curso/AM/Tema1_Supervised_Kernel_Percept/Metodos_kernel/krr_ejercicio.ipynb#W2sZmlsZQ%3D%3D?line=15'>16</a>\u001b[0m \u001b[39m# Regresion lineal sin regularizacion\u001b[39;00m\n\u001b[1;32m---> <a href='vscode-notebook-cell:/d%3A/UNIVERSIDAD/MASTER/Primer_curso/AM/Tema1_Supervised_Kernel_Percept/Metodos_kernel/krr_ejercicio.ipynb#W2sZmlsZQ%3D%3D?line=16'>17</a>\u001b[0m Wlr\u001b[39m=\u001b[39mXXX \u001b[39m#pesos del modelo \u001b[39;00m\n\u001b[0;32m     <a href='vscode-notebook-cell:/d%3A/UNIVERSIDAD/MASTER/Primer_curso/AM/Tema1_Supervised_Kernel_Percept/Metodos_kernel/krr_ejercicio.ipynb#W2sZmlsZQ%3D%3D?line=18'>19</a>\u001b[0m \u001b[39m# Regresion lineal con regularizacion\u001b[39;00m\n\u001b[0;32m     <a href='vscode-notebook-cell:/d%3A/UNIVERSIDAD/MASTER/Primer_curso/AM/Tema1_Supervised_Kernel_Percept/Metodos_kernel/krr_ejercicio.ipynb#W2sZmlsZQ%3D%3D?line=19'>20</a>\u001b[0m l\u001b[39m=\u001b[39m\u001b[39m0.001\u001b[39m \u001b[39m#constante de regularizacion (lambda)\u001b[39;00m\n",
      "\u001b[1;31mNameError\u001b[0m: name 'XXX' is not defined"
     ]
    }
   ],
   "source": [
    "# Entreno modelos lineales\n",
    "\n",
    "# Variable de entrada constante a uno para incluir bias en los pesos \n",
    "def addones(XX):\n",
    "    return np.concatenate([XX, np.ones((XX.shape[0],1))],axis=1)\n",
    "XX=X_train\n",
    "M=5 #M<2 linear regression ; M>=2 polynomic regression\n",
    "for p in range(2,M+1,1): XX = np.concatenate([X_train**p, XX],axis=1)\n",
    "XX=addones(XX)\n",
    "Y=y_train\n",
    "\n",
    "# np.linalg.inv()\n",
    "# XX.T.dot\n",
    "# np.eye()\n",
    "\n",
    "# Regresion lineal sin regularizacion\n",
    "Wlr=XXX #pesos del modelo \n",
    "\n",
    "# Regresion lineal con regularizacion\n",
    "l=0.001 #constante de regularizacion (lambda)\n",
    "I=XXX  #matriz identidad\n",
    "Wlrr=XXX #pesos del modelo "
   ]
  },
  {
   "cell_type": "code",
   "execution_count": null,
   "metadata": {},
   "outputs": [],
   "source": [
    "# Entreno molelo no lineal\n",
    "from sklearn.metrics.pairwise import rbf_kernel\n",
    "gamma=XXX #inversa de la anchura del kernel\n",
    "K=XXX #matriz kernel de train\n",
    "In=XXX  #matriz identidad\n",
    "alpha=XXX #pesos del modelo "
   ]
  },
  {
   "cell_type": "code",
   "execution_count": null,
   "metadata": {},
   "outputs": [],
   "source": [
    "# Predicción\n",
    "# Datos de test\n",
    "X = np.linspace(0, np.pi * 2.0, 100)\n",
    "X =X[:,np.newaxis]\n",
    "# Señal deseada\n",
    "y = np.sin( X )\n",
    "\n",
    "#Predicciones\n",
    "y_lr=XXX #prediccion lineal\n",
    "y_lrr=XXX #prediccion lineal regularizado\n",
    "\n",
    "Ktest=XXX #matriz kernel de test\n",
    "y_krr=XXX #prediccion kernel ridge"
   ]
  },
  {
   "cell_type": "code",
   "execution_count": null,
   "metadata": {},
   "outputs": [],
   "source": [
    "# Representación de la salida estimada\n",
    "import matplotlib.pyplot as plt\n",
    "%matplotlib inline\n",
    "\n",
    "plt.plot(X, y, 'k-', label='deseada', lw=1)\n",
    "plt.plot(X, y_lr, '--', color=(0.8, 0.2, 0.2), label='LR', lw=3)\n",
    "plt.plot(X, y_lrr, '--', color=(0.2, 0.8, 0.2), label='LRR', lw=3)\n",
    "plt.plot(X, y_krr, '--', color=(0.2, 0.2, 0.8), label='KRR', lw=3)\n",
    "plt.plot(X_train, np.zeros((12,1)), 'o', color=(0.2, 0.2, 0.8), label='KRR', lw=3)\n",
    "\n",
    "plt.xlim([0.0, X.max(0)])\n",
    "plt.ylim([-1.05, 1.05])\n",
    "plt.xlabel('entrada')\n",
    "plt.ylabel('salida')\n",
    "plt.title('Regresión')\n",
    "plt.legend(loc=\"upper right\")\n"
   ]
  }
 ],
 "metadata": {
  "kernelspec": {
   "display_name": "Python 3 (ipykernel)",
   "language": "python",
   "name": "python3"
  },
  "language_info": {
   "codemirror_mode": {
    "name": "ipython",
    "version": 3
   },
   "file_extension": ".py",
   "mimetype": "text/x-python",
   "name": "python",
   "nbconvert_exporter": "python",
   "pygments_lexer": "ipython3",
   "version": "3.11.5"
  }
 },
 "nbformat": 4,
 "nbformat_minor": 1
}
